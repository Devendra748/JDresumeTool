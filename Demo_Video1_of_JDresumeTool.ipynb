{
  "cells": [
    {
      "cell_type": "code",
      "execution_count": null,
      "metadata": {
        "colab": {
          "base_uri": "https://localhost:8080/"
        },
        "id": "zIY447j2PSEO",
        "outputId": "ba0d43bc-ab56-487b-bf31-e008cb0a7902"
      },
      "outputs": [
        {
          "output_type": "stream",
          "name": "stdout",
          "text": [
            "Collecting langchain\n",
            "  Downloading langchain-0.0.251-py3-none-any.whl (1.4 MB)\n",
            "\u001b[2K     \u001b[90m━━━━━━━━━━━━━━━━━━━━━━━━━━━━━━━━━━━━━━━━\u001b[0m \u001b[32m1.4/1.4 MB\u001b[0m \u001b[31m15.0 MB/s\u001b[0m eta \u001b[36m0:00:00\u001b[0m\n",
            "\u001b[?25hRequirement already satisfied: PyYAML>=5.4.1 in /usr/local/lib/python3.10/dist-packages (from langchain) (6.0.1)\n",
            "Requirement already satisfied: SQLAlchemy<3,>=1.4 in /usr/local/lib/python3.10/dist-packages (from langchain) (2.0.19)\n",
            "Requirement already satisfied: aiohttp<4.0.0,>=3.8.3 in /usr/local/lib/python3.10/dist-packages (from langchain) (3.8.5)\n",
            "Requirement already satisfied: async-timeout<5.0.0,>=4.0.0 in /usr/local/lib/python3.10/dist-packages (from langchain) (4.0.2)\n",
            "Collecting dataclasses-json<0.6.0,>=0.5.7 (from langchain)\n",
            "  Downloading dataclasses_json-0.5.14-py3-none-any.whl (26 kB)\n",
            "Collecting langsmith<0.1.0,>=0.0.11 (from langchain)\n",
            "  Downloading langsmith-0.0.18-py3-none-any.whl (31 kB)\n",
            "Requirement already satisfied: numexpr<3.0.0,>=2.8.4 in /usr/local/lib/python3.10/dist-packages (from langchain) (2.8.4)\n",
            "Requirement already satisfied: numpy<2,>=1 in /usr/local/lib/python3.10/dist-packages (from langchain) (1.22.4)\n",
            "Collecting openapi-schema-pydantic<2.0,>=1.2 (from langchain)\n",
            "  Downloading openapi_schema_pydantic-1.2.4-py3-none-any.whl (90 kB)\n",
            "\u001b[2K     \u001b[90m━━━━━━━━━━━━━━━━━━━━━━━━━━━━━━━━━━━━━━━━\u001b[0m \u001b[32m90.0/90.0 kB\u001b[0m \u001b[31m8.4 MB/s\u001b[0m eta \u001b[36m0:00:00\u001b[0m\n",
            "\u001b[?25hRequirement already satisfied: pydantic<2,>=1 in /usr/local/lib/python3.10/dist-packages (from langchain) (1.10.12)\n",
            "Requirement already satisfied: requests<3,>=2 in /usr/local/lib/python3.10/dist-packages (from langchain) (2.27.1)\n",
            "Requirement already satisfied: tenacity<9.0.0,>=8.1.0 in /usr/local/lib/python3.10/dist-packages (from langchain) (8.2.2)\n",
            "Requirement already satisfied: attrs>=17.3.0 in /usr/local/lib/python3.10/dist-packages (from aiohttp<4.0.0,>=3.8.3->langchain) (23.1.0)\n",
            "Requirement already satisfied: charset-normalizer<4.0,>=2.0 in /usr/local/lib/python3.10/dist-packages (from aiohttp<4.0.0,>=3.8.3->langchain) (2.0.12)\n",
            "Requirement already satisfied: multidict<7.0,>=4.5 in /usr/local/lib/python3.10/dist-packages (from aiohttp<4.0.0,>=3.8.3->langchain) (6.0.4)\n",
            "Requirement already satisfied: yarl<2.0,>=1.0 in /usr/local/lib/python3.10/dist-packages (from aiohttp<4.0.0,>=3.8.3->langchain) (1.9.2)\n",
            "Requirement already satisfied: frozenlist>=1.1.1 in /usr/local/lib/python3.10/dist-packages (from aiohttp<4.0.0,>=3.8.3->langchain) (1.4.0)\n",
            "Requirement already satisfied: aiosignal>=1.1.2 in /usr/local/lib/python3.10/dist-packages (from aiohttp<4.0.0,>=3.8.3->langchain) (1.3.1)\n",
            "Collecting marshmallow<4.0.0,>=3.18.0 (from dataclasses-json<0.6.0,>=0.5.7->langchain)\n",
            "  Downloading marshmallow-3.20.1-py3-none-any.whl (49 kB)\n",
            "\u001b[2K     \u001b[90m━━━━━━━━━━━━━━━━━━━━━━━━━━━━━━━━━━━━━━━━\u001b[0m \u001b[32m49.4/49.4 kB\u001b[0m \u001b[31m3.1 MB/s\u001b[0m eta \u001b[36m0:00:00\u001b[0m\n",
            "\u001b[?25hCollecting typing-inspect<1,>=0.4.0 (from dataclasses-json<0.6.0,>=0.5.7->langchain)\n",
            "  Downloading typing_inspect-0.9.0-py3-none-any.whl (8.8 kB)\n",
            "Requirement already satisfied: typing-extensions>=4.2.0 in /usr/local/lib/python3.10/dist-packages (from pydantic<2,>=1->langchain) (4.7.1)\n",
            "Requirement already satisfied: urllib3<1.27,>=1.21.1 in /usr/local/lib/python3.10/dist-packages (from requests<3,>=2->langchain) (1.26.16)\n",
            "Requirement already satisfied: certifi>=2017.4.17 in /usr/local/lib/python3.10/dist-packages (from requests<3,>=2->langchain) (2023.7.22)\n",
            "Requirement already satisfied: idna<4,>=2.5 in /usr/local/lib/python3.10/dist-packages (from requests<3,>=2->langchain) (3.4)\n",
            "Requirement already satisfied: greenlet!=0.4.17 in /usr/local/lib/python3.10/dist-packages (from SQLAlchemy<3,>=1.4->langchain) (2.0.2)\n",
            "Requirement already satisfied: packaging>=17.0 in /usr/local/lib/python3.10/dist-packages (from marshmallow<4.0.0,>=3.18.0->dataclasses-json<0.6.0,>=0.5.7->langchain) (23.1)\n",
            "Collecting mypy-extensions>=0.3.0 (from typing-inspect<1,>=0.4.0->dataclasses-json<0.6.0,>=0.5.7->langchain)\n",
            "  Downloading mypy_extensions-1.0.0-py3-none-any.whl (4.7 kB)\n",
            "Installing collected packages: mypy-extensions, marshmallow, typing-inspect, openapi-schema-pydantic, langsmith, dataclasses-json, langchain\n",
            "Successfully installed dataclasses-json-0.5.14 langchain-0.0.251 langsmith-0.0.18 marshmallow-3.20.1 mypy-extensions-1.0.0 openapi-schema-pydantic-1.2.4 typing-inspect-0.9.0\n"
          ]
        }
      ],
      "source": [
        "!pip install langchain\n"
      ]
    },
    {
      "cell_type": "code",
      "source": [
        "!pip install unstructured\n"
      ],
      "metadata": {
        "id": "H8IP8fXnOAEC",
        "colab": {
          "base_uri": "https://localhost:8080/"
        },
        "outputId": "0d60d640-d995-41a1-9b2b-3c61a897333a"
      },
      "execution_count": null,
      "outputs": [
        {
          "output_type": "stream",
          "name": "stdout",
          "text": [
            "Collecting unstructured\n",
            "  Downloading unstructured-0.9.0-py3-none-any.whl (1.4 MB)\n",
            "\u001b[2K     \u001b[90m━━━━━━━━━━━━━━━━━━━━━━━━━━━━━━━━━━━━━━━━\u001b[0m \u001b[32m1.4/1.4 MB\u001b[0m \u001b[31m12.6 MB/s\u001b[0m eta \u001b[36m0:00:00\u001b[0m\n",
            "\u001b[?25hRequirement already satisfied: chardet in /usr/local/lib/python3.10/dist-packages (from unstructured) (4.0.0)\n",
            "Collecting filetype (from unstructured)\n",
            "  Downloading filetype-1.2.0-py2.py3-none-any.whl (19 kB)\n",
            "Collecting python-magic (from unstructured)\n",
            "  Downloading python_magic-0.4.27-py2.py3-none-any.whl (13 kB)\n",
            "Requirement already satisfied: lxml in /usr/local/lib/python3.10/dist-packages (from unstructured) (4.9.3)\n",
            "Requirement already satisfied: nltk in /usr/local/lib/python3.10/dist-packages (from unstructured) (3.8.1)\n",
            "Requirement already satisfied: tabulate in /usr/local/lib/python3.10/dist-packages (from unstructured) (0.9.0)\n",
            "Requirement already satisfied: requests in /usr/local/lib/python3.10/dist-packages (from unstructured) (2.27.1)\n",
            "Requirement already satisfied: click in /usr/local/lib/python3.10/dist-packages (from nltk->unstructured) (8.1.6)\n",
            "Requirement already satisfied: joblib in /usr/local/lib/python3.10/dist-packages (from nltk->unstructured) (1.3.1)\n",
            "Requirement already satisfied: regex>=2021.8.3 in /usr/local/lib/python3.10/dist-packages (from nltk->unstructured) (2022.10.31)\n",
            "Requirement already satisfied: tqdm in /usr/local/lib/python3.10/dist-packages (from nltk->unstructured) (4.65.0)\n",
            "Requirement already satisfied: urllib3<1.27,>=1.21.1 in /usr/local/lib/python3.10/dist-packages (from requests->unstructured) (1.26.16)\n",
            "Requirement already satisfied: certifi>=2017.4.17 in /usr/local/lib/python3.10/dist-packages (from requests->unstructured) (2023.7.22)\n",
            "Requirement already satisfied: charset-normalizer~=2.0.0 in /usr/local/lib/python3.10/dist-packages (from requests->unstructured) (2.0.12)\n",
            "Requirement already satisfied: idna<4,>=2.5 in /usr/local/lib/python3.10/dist-packages (from requests->unstructured) (3.4)\n",
            "Installing collected packages: filetype, python-magic, unstructured\n",
            "Successfully installed filetype-1.2.0 python-magic-0.4.27 unstructured-0.9.0\n"
          ]
        }
      ]
    },
    {
      "cell_type": "code",
      "source": [
        "!pip install helicone\n"
      ],
      "metadata": {
        "id": "mwKCPYBeOCmY",
        "colab": {
          "base_uri": "https://localhost:8080/"
        },
        "outputId": "16c9805a-5f24-4c94-8746-6f599745fc39"
      },
      "execution_count": null,
      "outputs": [
        {
          "output_type": "stream",
          "name": "stdout",
          "text": [
            "Collecting helicone\n",
            "  Downloading helicone-1.0.6-py3-none-any.whl (15 kB)\n",
            "Collecting lockfile<0.13.0,>=0.12.2 (from helicone)\n",
            "  Downloading lockfile-0.12.2-py2.py3-none-any.whl (13 kB)\n",
            "Collecting openai<0.28.0,>=0.27.0 (from helicone)\n",
            "  Downloading openai-0.27.8-py3-none-any.whl (73 kB)\n",
            "\u001b[2K     \u001b[90m━━━━━━━━━━━━━━━━━━━━━━━━━━━━━━━━━━━━━━━━\u001b[0m \u001b[32m73.6/73.6 kB\u001b[0m \u001b[31m4.2 MB/s\u001b[0m eta \u001b[36m0:00:00\u001b[0m\n",
            "\u001b[?25hRequirement already satisfied: requests>=2.20 in /usr/local/lib/python3.10/dist-packages (from openai<0.28.0,>=0.27.0->helicone) (2.27.1)\n",
            "Requirement already satisfied: tqdm in /usr/local/lib/python3.10/dist-packages (from openai<0.28.0,>=0.27.0->helicone) (4.65.0)\n",
            "Requirement already satisfied: aiohttp in /usr/local/lib/python3.10/dist-packages (from openai<0.28.0,>=0.27.0->helicone) (3.8.5)\n",
            "Requirement already satisfied: urllib3<1.27,>=1.21.1 in /usr/local/lib/python3.10/dist-packages (from requests>=2.20->openai<0.28.0,>=0.27.0->helicone) (1.26.16)\n",
            "Requirement already satisfied: certifi>=2017.4.17 in /usr/local/lib/python3.10/dist-packages (from requests>=2.20->openai<0.28.0,>=0.27.0->helicone) (2023.7.22)\n",
            "Requirement already satisfied: charset-normalizer~=2.0.0 in /usr/local/lib/python3.10/dist-packages (from requests>=2.20->openai<0.28.0,>=0.27.0->helicone) (2.0.12)\n",
            "Requirement already satisfied: idna<4,>=2.5 in /usr/local/lib/python3.10/dist-packages (from requests>=2.20->openai<0.28.0,>=0.27.0->helicone) (3.4)\n",
            "Requirement already satisfied: attrs>=17.3.0 in /usr/local/lib/python3.10/dist-packages (from aiohttp->openai<0.28.0,>=0.27.0->helicone) (23.1.0)\n",
            "Requirement already satisfied: multidict<7.0,>=4.5 in /usr/local/lib/python3.10/dist-packages (from aiohttp->openai<0.28.0,>=0.27.0->helicone) (6.0.4)\n",
            "Requirement already satisfied: async-timeout<5.0,>=4.0.0a3 in /usr/local/lib/python3.10/dist-packages (from aiohttp->openai<0.28.0,>=0.27.0->helicone) (4.0.2)\n",
            "Requirement already satisfied: yarl<2.0,>=1.0 in /usr/local/lib/python3.10/dist-packages (from aiohttp->openai<0.28.0,>=0.27.0->helicone) (1.9.2)\n",
            "Requirement already satisfied: frozenlist>=1.1.1 in /usr/local/lib/python3.10/dist-packages (from aiohttp->openai<0.28.0,>=0.27.0->helicone) (1.4.0)\n",
            "Requirement already satisfied: aiosignal>=1.1.2 in /usr/local/lib/python3.10/dist-packages (from aiohttp->openai<0.28.0,>=0.27.0->helicone) (1.3.1)\n",
            "Installing collected packages: lockfile, openai, helicone\n",
            "Successfully installed helicone-1.0.6 lockfile-0.12.2 openai-0.27.8\n"
          ]
        }
      ]
    },
    {
      "cell_type": "code",
      "source": [
        "!pip install chromadb\n"
      ],
      "metadata": {
        "id": "pmXNWDQnOE6c",
        "colab": {
          "base_uri": "https://localhost:8080/"
        },
        "outputId": "8c9162d5-f470-440e-edf9-177f1d765081"
      },
      "execution_count": null,
      "outputs": [
        {
          "output_type": "stream",
          "name": "stdout",
          "text": [
            "Collecting chromadb\n",
            "  Downloading chromadb-0.4.5-py3-none-any.whl (402 kB)\n",
            "\u001b[?25l     \u001b[90m━━━━━━━━━━━━━━━━━━━━━━━━━━━━━━━━━━━━━━━━\u001b[0m \u001b[32m0.0/402.8 kB\u001b[0m \u001b[31m?\u001b[0m eta \u001b[36m-:--:--\u001b[0m\r\u001b[2K     \u001b[91m━━━━━━━━━━━━━━━━━━━━━━━━━━━━━━━━━━━━━\u001b[0m\u001b[91m╸\u001b[0m \u001b[32m399.4/402.8 kB\u001b[0m \u001b[31m16.2 MB/s\u001b[0m eta \u001b[36m0:00:01\u001b[0m\r\u001b[2K     \u001b[90m━━━━━━━━━━━━━━━━━━━━━━━━━━━━━━━━━━━━━━\u001b[0m \u001b[32m402.8/402.8 kB\u001b[0m \u001b[31m10.7 MB/s\u001b[0m eta \u001b[36m0:00:00\u001b[0m\n",
            "\u001b[?25hCollecting requests>=2.28 (from chromadb)\n",
            "  Downloading requests-2.31.0-py3-none-any.whl (62 kB)\n",
            "\u001b[?25l     \u001b[90m━━━━━━━━━━━━━━━━━━━━━━━━━━━━━━━━━━━━━━━━\u001b[0m \u001b[32m0.0/62.6 kB\u001b[0m \u001b[31m?\u001b[0m eta \u001b[36m-:--:--\u001b[0m\r\u001b[2K     \u001b[90m━━━━━━━━━━━━━━━━━━━━━━━━━━━━━━━━━━━━━━━━\u001b[0m \u001b[32m62.6/62.6 kB\u001b[0m \u001b[31m6.3 MB/s\u001b[0m eta \u001b[36m0:00:00\u001b[0m\n",
            "\u001b[?25hRequirement already satisfied: pydantic<2.0,>=1.9 in /usr/local/lib/python3.10/dist-packages (from chromadb) (1.10.12)\n",
            "Collecting chroma-hnswlib==0.7.2 (from chromadb)\n",
            "  Downloading chroma-hnswlib-0.7.2.tar.gz (31 kB)\n",
            "  Installing build dependencies ... \u001b[?25l\u001b[?25hdone\n",
            "  Getting requirements to build wheel ... \u001b[?25l\u001b[?25hdone\n",
            "  Preparing metadata (pyproject.toml) ... \u001b[?25l\u001b[?25hdone\n",
            "Collecting fastapi<0.100.0,>=0.95.2 (from chromadb)\n",
            "  Downloading fastapi-0.99.1-py3-none-any.whl (58 kB)\n",
            "\u001b[2K     \u001b[90m━━━━━━━━━━━━━━━━━━━━━━━━━━━━━━━━━━━━━━━━\u001b[0m \u001b[32m58.4/58.4 kB\u001b[0m \u001b[31m5.9 MB/s\u001b[0m eta \u001b[36m0:00:00\u001b[0m\n",
            "\u001b[?25hCollecting uvicorn[standard]>=0.18.3 (from chromadb)\n",
            "  Downloading uvicorn-0.23.2-py3-none-any.whl (59 kB)\n",
            "\u001b[2K     \u001b[90m━━━━━━━━━━━━━━━━━━━━━━━━━━━━━━━━━━━━━━━━\u001b[0m \u001b[32m59.5/59.5 kB\u001b[0m \u001b[31m5.9 MB/s\u001b[0m eta \u001b[36m0:00:00\u001b[0m\n",
            "\u001b[?25hRequirement already satisfied: numpy>=1.21.6 in /usr/local/lib/python3.10/dist-packages (from chromadb) (1.22.4)\n",
            "Collecting posthog>=2.4.0 (from chromadb)\n",
            "  Downloading posthog-3.0.1-py2.py3-none-any.whl (37 kB)\n",
            "Requirement already satisfied: typing-extensions>=4.5.0 in /usr/local/lib/python3.10/dist-packages (from chromadb) (4.7.1)\n",
            "Collecting pulsar-client>=3.1.0 (from chromadb)\n",
            "  Downloading pulsar_client-3.2.0-cp310-cp310-manylinux_2_17_x86_64.manylinux2014_x86_64.whl (5.3 MB)\n",
            "\u001b[2K     \u001b[90m━━━━━━━━━━━━━━━━━━━━━━━━━━━━━━━━━━━━━━━━\u001b[0m \u001b[32m5.3/5.3 MB\u001b[0m \u001b[31m63.6 MB/s\u001b[0m eta \u001b[36m0:00:00\u001b[0m\n",
            "\u001b[?25hCollecting onnxruntime>=1.14.1 (from chromadb)\n",
            "  Downloading onnxruntime-1.15.1-cp310-cp310-manylinux_2_17_x86_64.manylinux2014_x86_64.whl (5.9 MB)\n",
            "\u001b[2K     \u001b[90m━━━━━━━━━━━━━━━━━━━━━━━━━━━━━━━━━━━━━━━━\u001b[0m \u001b[32m5.9/5.9 MB\u001b[0m \u001b[31m65.1 MB/s\u001b[0m eta \u001b[36m0:00:00\u001b[0m\n",
            "\u001b[?25hCollecting tokenizers>=0.13.2 (from chromadb)\n",
            "  Downloading tokenizers-0.13.3-cp310-cp310-manylinux_2_17_x86_64.manylinux2014_x86_64.whl (7.8 MB)\n",
            "\u001b[2K     \u001b[90m━━━━━━━━━━━━━━━━━━━━━━━━━━━━━━━━━━━━━━━━\u001b[0m \u001b[32m7.8/7.8 MB\u001b[0m \u001b[31m68.2 MB/s\u001b[0m eta \u001b[36m0:00:00\u001b[0m\n",
            "\u001b[?25hCollecting pypika>=0.48.9 (from chromadb)\n",
            "  Downloading PyPika-0.48.9.tar.gz (67 kB)\n",
            "\u001b[2K     \u001b[90m━━━━━━━━━━━━━━━━━━━━━━━━━━━━━━━━━━━━━━━━\u001b[0m \u001b[32m67.3/67.3 kB\u001b[0m \u001b[31m5.8 MB/s\u001b[0m eta \u001b[36m0:00:00\u001b[0m\n",
            "\u001b[?25h  Installing build dependencies ... \u001b[?25l\u001b[?25hdone\n",
            "  Getting requirements to build wheel ... \u001b[?25l\u001b[?25hdone\n",
            "  Preparing metadata (pyproject.toml) ... \u001b[?25l\u001b[?25hdone\n",
            "Requirement already satisfied: tqdm>=4.65.0 in /usr/local/lib/python3.10/dist-packages (from chromadb) (4.65.0)\n",
            "Collecting overrides>=7.3.1 (from chromadb)\n",
            "  Downloading overrides-7.3.1-py3-none-any.whl (17 kB)\n",
            "Requirement already satisfied: importlib-resources in /usr/local/lib/python3.10/dist-packages (from chromadb) (6.0.0)\n",
            "Collecting starlette<0.28.0,>=0.27.0 (from fastapi<0.100.0,>=0.95.2->chromadb)\n",
            "  Downloading starlette-0.27.0-py3-none-any.whl (66 kB)\n",
            "\u001b[2K     \u001b[90m━━━━━━━━━━━━━━━━━━━━━━━━━━━━━━━━━━━━━━━━\u001b[0m \u001b[32m67.0/67.0 kB\u001b[0m \u001b[31m6.9 MB/s\u001b[0m eta \u001b[36m0:00:00\u001b[0m\n",
            "\u001b[?25hCollecting coloredlogs (from onnxruntime>=1.14.1->chromadb)\n",
            "  Downloading coloredlogs-15.0.1-py2.py3-none-any.whl (46 kB)\n",
            "\u001b[2K     \u001b[90m━━━━━━━━━━━━━━━━━━━━━━━━━━━━━━━━━━━━━━━━\u001b[0m \u001b[32m46.0/46.0 kB\u001b[0m \u001b[31m4.4 MB/s\u001b[0m eta \u001b[36m0:00:00\u001b[0m\n",
            "\u001b[?25hRequirement already satisfied: flatbuffers in /usr/local/lib/python3.10/dist-packages (from onnxruntime>=1.14.1->chromadb) (23.5.26)\n",
            "Requirement already satisfied: packaging in /usr/local/lib/python3.10/dist-packages (from onnxruntime>=1.14.1->chromadb) (23.1)\n",
            "Requirement already satisfied: protobuf in /usr/local/lib/python3.10/dist-packages (from onnxruntime>=1.14.1->chromadb) (3.20.3)\n",
            "Requirement already satisfied: sympy in /usr/local/lib/python3.10/dist-packages (from onnxruntime>=1.14.1->chromadb) (1.11.1)\n",
            "Requirement already satisfied: six>=1.5 in /usr/local/lib/python3.10/dist-packages (from posthog>=2.4.0->chromadb) (1.16.0)\n",
            "Collecting monotonic>=1.5 (from posthog>=2.4.0->chromadb)\n",
            "  Downloading monotonic-1.6-py2.py3-none-any.whl (8.2 kB)\n",
            "Collecting backoff>=1.10.0 (from posthog>=2.4.0->chromadb)\n",
            "  Downloading backoff-2.2.1-py3-none-any.whl (15 kB)\n",
            "Requirement already satisfied: python-dateutil>2.1 in /usr/local/lib/python3.10/dist-packages (from posthog>=2.4.0->chromadb) (2.8.2)\n",
            "Requirement already satisfied: certifi in /usr/local/lib/python3.10/dist-packages (from pulsar-client>=3.1.0->chromadb) (2023.7.22)\n",
            "Requirement already satisfied: charset-normalizer<4,>=2 in /usr/local/lib/python3.10/dist-packages (from requests>=2.28->chromadb) (2.0.12)\n",
            "Requirement already satisfied: idna<4,>=2.5 in /usr/local/lib/python3.10/dist-packages (from requests>=2.28->chromadb) (3.4)\n",
            "Requirement already satisfied: urllib3<3,>=1.21.1 in /usr/local/lib/python3.10/dist-packages (from requests>=2.28->chromadb) (1.26.16)\n",
            "Requirement already satisfied: click>=7.0 in /usr/local/lib/python3.10/dist-packages (from uvicorn[standard]>=0.18.3->chromadb) (8.1.6)\n",
            "Collecting h11>=0.8 (from uvicorn[standard]>=0.18.3->chromadb)\n",
            "  Downloading h11-0.14.0-py3-none-any.whl (58 kB)\n",
            "\u001b[2K     \u001b[90m━━━━━━━━━━━━━━━━━━━━━━━━━━━━━━━━━━━━━━━━\u001b[0m \u001b[32m58.3/58.3 kB\u001b[0m \u001b[31m5.5 MB/s\u001b[0m eta \u001b[36m0:00:00\u001b[0m\n",
            "\u001b[?25hCollecting httptools>=0.5.0 (from uvicorn[standard]>=0.18.3->chromadb)\n",
            "  Downloading httptools-0.6.0-cp310-cp310-manylinux_2_5_x86_64.manylinux1_x86_64.manylinux_2_17_x86_64.manylinux2014_x86_64.whl (428 kB)\n",
            "\u001b[2K     \u001b[90m━━━━━━━━━━━━━━━━━━━━━━━━━━━━━━━━━━━━━━\u001b[0m \u001b[32m428.8/428.8 kB\u001b[0m \u001b[31m38.8 MB/s\u001b[0m eta \u001b[36m0:00:00\u001b[0m\n",
            "\u001b[?25hCollecting python-dotenv>=0.13 (from uvicorn[standard]>=0.18.3->chromadb)\n",
            "  Downloading python_dotenv-1.0.0-py3-none-any.whl (19 kB)\n",
            "Requirement already satisfied: pyyaml>=5.1 in /usr/local/lib/python3.10/dist-packages (from uvicorn[standard]>=0.18.3->chromadb) (6.0.1)\n",
            "Collecting uvloop!=0.15.0,!=0.15.1,>=0.14.0 (from uvicorn[standard]>=0.18.3->chromadb)\n",
            "  Downloading uvloop-0.17.0-cp310-cp310-manylinux_2_17_x86_64.manylinux2014_x86_64.whl (4.1 MB)\n",
            "\u001b[2K     \u001b[90m━━━━━━━━━━━━━━━━━━━━━━━━━━━━━━━━━━━━━━━━\u001b[0m \u001b[32m4.1/4.1 MB\u001b[0m \u001b[31m104.0 MB/s\u001b[0m eta \u001b[36m0:00:00\u001b[0m\n",
            "\u001b[?25hCollecting watchfiles>=0.13 (from uvicorn[standard]>=0.18.3->chromadb)\n",
            "  Downloading watchfiles-0.19.0-cp37-abi3-manylinux_2_17_x86_64.manylinux2014_x86_64.whl (1.3 MB)\n",
            "\u001b[2K     \u001b[90m━━━━━━━━━━━━━━━━━━━━━━━━━━━━━━━━━━━━━━━━\u001b[0m \u001b[32m1.3/1.3 MB\u001b[0m \u001b[31m50.6 MB/s\u001b[0m eta \u001b[36m0:00:00\u001b[0m\n",
            "\u001b[?25hCollecting websockets>=10.4 (from uvicorn[standard]>=0.18.3->chromadb)\n",
            "  Downloading websockets-11.0.3-cp310-cp310-manylinux_2_5_x86_64.manylinux1_x86_64.manylinux_2_17_x86_64.manylinux2014_x86_64.whl (129 kB)\n",
            "\u001b[2K     \u001b[90m━━━━━━━━━━━━━━━━━━━━━━━━━━━━━━━━━━━━━━\u001b[0m \u001b[32m129.9/129.9 kB\u001b[0m \u001b[31m11.0 MB/s\u001b[0m eta \u001b[36m0:00:00\u001b[0m\n",
            "\u001b[?25hRequirement already satisfied: anyio<5,>=3.4.0 in /usr/local/lib/python3.10/dist-packages (from starlette<0.28.0,>=0.27.0->fastapi<0.100.0,>=0.95.2->chromadb) (3.7.1)\n",
            "Collecting humanfriendly>=9.1 (from coloredlogs->onnxruntime>=1.14.1->chromadb)\n",
            "  Downloading humanfriendly-10.0-py2.py3-none-any.whl (86 kB)\n",
            "\u001b[2K     \u001b[90m━━━━━━━━━━━━━━━━━━━━━━━━━━━━━━━━━━━━━━━━\u001b[0m \u001b[32m86.8/86.8 kB\u001b[0m \u001b[31m8.2 MB/s\u001b[0m eta \u001b[36m0:00:00\u001b[0m\n",
            "\u001b[?25hRequirement already satisfied: mpmath>=0.19 in /usr/local/lib/python3.10/dist-packages (from sympy->onnxruntime>=1.14.1->chromadb) (1.3.0)\n",
            "Requirement already satisfied: sniffio>=1.1 in /usr/local/lib/python3.10/dist-packages (from anyio<5,>=3.4.0->starlette<0.28.0,>=0.27.0->fastapi<0.100.0,>=0.95.2->chromadb) (1.3.0)\n",
            "Requirement already satisfied: exceptiongroup in /usr/local/lib/python3.10/dist-packages (from anyio<5,>=3.4.0->starlette<0.28.0,>=0.27.0->fastapi<0.100.0,>=0.95.2->chromadb) (1.1.2)\n",
            "Building wheels for collected packages: chroma-hnswlib, pypika\n",
            "  Building wheel for chroma-hnswlib (pyproject.toml) ... \u001b[?25l\u001b[?25hdone\n",
            "  Created wheel for chroma-hnswlib: filename=chroma_hnswlib-0.7.2-cp310-cp310-linux_x86_64.whl size=2285750 sha256=12ceb20a792e1f1cc2a5858766f1086f303c53d862f6bc95d0480a7d7d1f8913\n",
            "  Stored in directory: /root/.cache/pip/wheels/11/2b/0d/ee457f6782f75315bb5828d5c2dc5639d471afbd44a830b9dc\n",
            "  Building wheel for pypika (pyproject.toml) ... \u001b[?25l\u001b[?25hdone\n",
            "  Created wheel for pypika: filename=PyPika-0.48.9-py2.py3-none-any.whl size=53723 sha256=56138efc0448de8b9cd691e1fb4e3132328dd437b43bbf46e2ac4eefd18a5f30\n",
            "  Stored in directory: /root/.cache/pip/wheels/e1/26/51/d0bffb3d2fd82256676d7ad3003faea3bd6dddc9577af665f4\n",
            "Successfully built chroma-hnswlib pypika\n",
            "Installing collected packages: tokenizers, pypika, monotonic, websockets, uvloop, requests, python-dotenv, pulsar-client, overrides, humanfriendly, httptools, h11, chroma-hnswlib, backoff, watchfiles, uvicorn, starlette, posthog, coloredlogs, onnxruntime, fastapi, chromadb\n",
            "  Attempting uninstall: requests\n",
            "    Found existing installation: requests 2.27.1\n",
            "    Uninstalling requests-2.27.1:\n",
            "      Successfully uninstalled requests-2.27.1\n",
            "\u001b[31mERROR: pip's dependency resolver does not currently take into account all the packages that are installed. This behaviour is the source of the following dependency conflicts.\n",
            "google-colab 1.0.0 requires requests==2.27.1, but you have requests 2.31.0 which is incompatible.\u001b[0m\u001b[31m\n",
            "\u001b[0mSuccessfully installed backoff-2.2.1 chroma-hnswlib-0.7.2 chromadb-0.4.5 coloredlogs-15.0.1 fastapi-0.99.1 h11-0.14.0 httptools-0.6.0 humanfriendly-10.0 monotonic-1.6 onnxruntime-1.15.1 overrides-7.3.1 posthog-3.0.1 pulsar-client-3.2.0 pypika-0.48.9 python-dotenv-1.0.0 requests-2.31.0 starlette-0.27.0 tokenizers-0.13.3 uvicorn-0.23.2 uvloop-0.17.0 watchfiles-0.19.0 websockets-11.0.3\n"
          ]
        }
      ]
    },
    {
      "cell_type": "code",
      "source": [
        "!pip install tiktoken\n"
      ],
      "metadata": {
        "id": "okDLfjHXOHOH",
        "colab": {
          "base_uri": "https://localhost:8080/"
        },
        "outputId": "0fb03fbe-43d1-42fc-cc36-c8d66ed8b0f2"
      },
      "execution_count": null,
      "outputs": [
        {
          "output_type": "stream",
          "name": "stdout",
          "text": [
            "Collecting tiktoken\n",
            "  Downloading tiktoken-0.4.0-cp310-cp310-manylinux_2_17_x86_64.manylinux2014_x86_64.whl (1.7 MB)\n",
            "\u001b[?25l     \u001b[90m━━━━━━━━━━━━━━━━━━━━━━━━━━━━━━━━━━━━━━━━\u001b[0m \u001b[32m0.0/1.7 MB\u001b[0m \u001b[31m?\u001b[0m eta \u001b[36m-:--:--\u001b[0m\r\u001b[2K     \u001b[91m━━━━━━━━━━━━━\u001b[0m\u001b[91m╸\u001b[0m\u001b[90m━━━━━━━━━━━━━━━━━━━━━━━━━━\u001b[0m \u001b[32m0.6/1.7 MB\u001b[0m \u001b[31m17.3 MB/s\u001b[0m eta \u001b[36m0:00:01\u001b[0m\r\u001b[2K     \u001b[90m━━━━━━━━━━━━━━━━━━━━━━━━━━━━━━━━━━━━━━━━\u001b[0m \u001b[32m1.7/1.7 MB\u001b[0m \u001b[31m27.3 MB/s\u001b[0m eta \u001b[36m0:00:00\u001b[0m\n",
            "\u001b[?25hRequirement already satisfied: regex>=2022.1.18 in /usr/local/lib/python3.10/dist-packages (from tiktoken) (2022.10.31)\n",
            "Requirement already satisfied: requests>=2.26.0 in /usr/local/lib/python3.10/dist-packages (from tiktoken) (2.31.0)\n",
            "Requirement already satisfied: charset-normalizer<4,>=2 in /usr/local/lib/python3.10/dist-packages (from requests>=2.26.0->tiktoken) (2.0.12)\n",
            "Requirement already satisfied: idna<4,>=2.5 in /usr/local/lib/python3.10/dist-packages (from requests>=2.26.0->tiktoken) (3.4)\n",
            "Requirement already satisfied: urllib3<3,>=1.21.1 in /usr/local/lib/python3.10/dist-packages (from requests>=2.26.0->tiktoken) (1.26.16)\n",
            "Requirement already satisfied: certifi>=2017.4.17 in /usr/local/lib/python3.10/dist-packages (from requests>=2.26.0->tiktoken) (2023.7.22)\n",
            "Installing collected packages: tiktoken\n",
            "Successfully installed tiktoken-0.4.0\n"
          ]
        }
      ]
    },
    {
      "cell_type": "code",
      "source": [
        "!pip install pdf2image\n"
      ],
      "metadata": {
        "id": "BnueNkKFOJtx",
        "colab": {
          "base_uri": "https://localhost:8080/"
        },
        "outputId": "40696f76-0a8d-4060-bf17-0b734d485c83"
      },
      "execution_count": null,
      "outputs": [
        {
          "output_type": "stream",
          "name": "stdout",
          "text": [
            "Collecting pdf2image\n",
            "  Downloading pdf2image-1.16.3-py3-none-any.whl (11 kB)\n",
            "Requirement already satisfied: pillow in /usr/local/lib/python3.10/dist-packages (from pdf2image) (9.4.0)\n",
            "Installing collected packages: pdf2image\n",
            "Successfully installed pdf2image-1.16.3\n"
          ]
        }
      ]
    },
    {
      "cell_type": "code",
      "source": [
        "!pip install pdfminer\n"
      ],
      "metadata": {
        "id": "qHBU_5iKOL5I",
        "colab": {
          "base_uri": "https://localhost:8080/"
        },
        "outputId": "3f2cd1bb-4d22-4174-8a24-b039268d70ca"
      },
      "execution_count": null,
      "outputs": [
        {
          "output_type": "stream",
          "name": "stdout",
          "text": [
            "Collecting pdfminer\n",
            "  Downloading pdfminer-20191125.tar.gz (4.2 MB)\n",
            "\u001b[?25l     \u001b[90m━━━━━━━━━━━━━━━━━━━━━━━━━━━━━━━━━━━━━━━━\u001b[0m \u001b[32m0.0/4.2 MB\u001b[0m \u001b[31m?\u001b[0m eta \u001b[36m-:--:--\u001b[0m\r\u001b[2K     \u001b[91m━━━━━\u001b[0m\u001b[90m╺\u001b[0m\u001b[90m━━━━━━━━━━━━━━━━━━━━━━━━━━━━━━━━━━\u001b[0m \u001b[32m0.6/4.2 MB\u001b[0m \u001b[31m17.1 MB/s\u001b[0m eta \u001b[36m0:00:01\u001b[0m\r\u001b[2K     \u001b[91m━━━━━━━━━━━━━━━━━━━━━━━━━━━━━━━━━━━━━━━\u001b[0m\u001b[91m╸\u001b[0m \u001b[32m4.2/4.2 MB\u001b[0m \u001b[31m62.7 MB/s\u001b[0m eta \u001b[36m0:00:01\u001b[0m\r\u001b[2K     \u001b[90m━━━━━━━━━━━━━━━━━━━━━━━━━━━━━━━━━━━━━━━━\u001b[0m \u001b[32m4.2/4.2 MB\u001b[0m \u001b[31m45.0 MB/s\u001b[0m eta \u001b[36m0:00:00\u001b[0m\n",
            "\u001b[?25h  Preparing metadata (setup.py) ... \u001b[?25l\u001b[?25hdone\n",
            "Collecting pycryptodome (from pdfminer)\n",
            "  Downloading pycryptodome-3.18.0-cp35-abi3-manylinux_2_17_x86_64.manylinux2014_x86_64.whl (2.1 MB)\n",
            "\u001b[2K     \u001b[90m━━━━━━━━━━━━━━━━━━━━━━━━━━━━━━━━━━━━━━━━\u001b[0m \u001b[32m2.1/2.1 MB\u001b[0m \u001b[31m87.7 MB/s\u001b[0m eta \u001b[36m0:00:00\u001b[0m\n",
            "\u001b[?25hBuilding wheels for collected packages: pdfminer\n",
            "  Building wheel for pdfminer (setup.py) ... \u001b[?25l\u001b[?25hdone\n",
            "  Created wheel for pdfminer: filename=pdfminer-20191125-py3-none-any.whl size=6140105 sha256=90833b871bbfa63a95a2d5834b86e7666bf2b572a34ff666626dc9e63f4a81b6\n",
            "  Stored in directory: /root/.cache/pip/wheels/4e/c1/68/f7bd0a8f514661f76b5cbe3b5f76e0033d79f1296012cbbf72\n",
            "Successfully built pdfminer\n",
            "Installing collected packages: pycryptodome, pdfminer\n",
            "Successfully installed pdfminer-20191125 pycryptodome-3.18.0\n"
          ]
        }
      ]
    },
    {
      "cell_type": "code",
      "source": [
        "!pip install pdfminer.six\n"
      ],
      "metadata": {
        "id": "BgcYDyzQON8B",
        "colab": {
          "base_uri": "https://localhost:8080/"
        },
        "outputId": "bf3d2f3a-6d88-41e5-8686-f8f9953a711b"
      },
      "execution_count": null,
      "outputs": [
        {
          "output_type": "stream",
          "name": "stdout",
          "text": [
            "Collecting pdfminer.six\n",
            "  Downloading pdfminer.six-20221105-py3-none-any.whl (5.6 MB)\n",
            "\u001b[2K     \u001b[90m━━━━━━━━━━━━━━━━━━━━━━━━━━━━━━━━━━━━━━━━\u001b[0m \u001b[32m5.6/5.6 MB\u001b[0m \u001b[31m28.3 MB/s\u001b[0m eta \u001b[36m0:00:00\u001b[0m\n",
            "\u001b[?25hRequirement already satisfied: charset-normalizer>=2.0.0 in /usr/local/lib/python3.10/dist-packages (from pdfminer.six) (2.0.12)\n",
            "Collecting cryptography>=36.0.0 (from pdfminer.six)\n",
            "  Downloading cryptography-41.0.3-cp37-abi3-manylinux_2_28_x86_64.whl (4.3 MB)\n",
            "\u001b[2K     \u001b[90m━━━━━━━━━━━━━━━━━━━━━━━━━━━━━━━━━━━━━━━━\u001b[0m \u001b[32m4.3/4.3 MB\u001b[0m \u001b[31m103.9 MB/s\u001b[0m eta \u001b[36m0:00:00\u001b[0m\n",
            "\u001b[?25hRequirement already satisfied: cffi>=1.12 in /usr/local/lib/python3.10/dist-packages (from cryptography>=36.0.0->pdfminer.six) (1.15.1)\n",
            "Requirement already satisfied: pycparser in /usr/local/lib/python3.10/dist-packages (from cffi>=1.12->cryptography>=36.0.0->pdfminer.six) (2.21)\n",
            "Installing collected packages: cryptography, pdfminer.six\n",
            "  Attempting uninstall: cryptography\n",
            "    Found existing installation: cryptography 3.4.8\n",
            "    Uninstalling cryptography-3.4.8:\n",
            "      Successfully uninstalled cryptography-3.4.8\n",
            "Successfully installed cryptography-41.0.3 pdfminer.six-20221105\n"
          ]
        }
      ]
    },
    {
      "cell_type": "code",
      "source": [
        "!pip install pytesseract"
      ],
      "metadata": {
        "id": "qYyjWqv0OROS",
        "colab": {
          "base_uri": "https://localhost:8080/"
        },
        "outputId": "0105ca5f-5d54-400a-9730-66db399fb413"
      },
      "execution_count": null,
      "outputs": [
        {
          "output_type": "stream",
          "name": "stdout",
          "text": [
            "Collecting pytesseract\n",
            "  Downloading pytesseract-0.3.10-py3-none-any.whl (14 kB)\n",
            "Requirement already satisfied: packaging>=21.3 in /usr/local/lib/python3.10/dist-packages (from pytesseract) (23.1)\n",
            "Requirement already satisfied: Pillow>=8.0.0 in /usr/local/lib/python3.10/dist-packages (from pytesseract) (9.4.0)\n",
            "Installing collected packages: pytesseract\n",
            "Successfully installed pytesseract-0.3.10\n"
          ]
        }
      ]
    },
    {
      "cell_type": "code",
      "execution_count": null,
      "metadata": {
        "id": "sSFoyeeZOh7E"
      },
      "outputs": [],
      "source": [
        "from langchain.embeddings import OpenAIEmbeddings\n",
        "from langchain.vectorstores import Chroma\n",
        "from langchain.document_loaders import UnstructuredPDFLoader\n",
        "from helicone.openai_proxy import openai\n",
        "from langchain.text_splitter import CharacterTextSplitter\n",
        "from langchain.llms import AzureOpenAI\n",
        "from IPython.display import display, Markdown\n",
        "from collections import namedtuple\n",
        "from langchain.callbacks import get_openai_callback\n",
        "from langchain.chains.question_answering import load_qa_chain\n",
        "import pandas as pd\n",
        "import ast\n",
        "import os\n",
        "import time\n"
      ]
    },
    {
      "cell_type": "code",
      "execution_count": null,
      "metadata": {
        "id": "KKhyOz1WDYnY"
      },
      "outputs": [],
      "source": [
        "os.environ[\"LANGCHAIN_TRACING\"] = \"true\"\n",
        "os.environ[\"LANGCHAIN_SESSION\"] = \"LANGCHAIN_SESSION\"\n",
        "openai.api_type  = \"openai.api_type\"\n",
        "openai.api_version  = \"openai.api_version\"\n",
        "os.environ[\"OPENAI_API_KEY\"]  = \"OPENAI_API_KEY\"\n",
        "openai.api_base = \"openai.api_base\""
      ]
    },
    {
      "cell_type": "code",
      "execution_count": null,
      "metadata": {
        "colab": {
          "base_uri": "https://localhost:8080/"
        },
        "id": "pas9KvSkO4z1",
        "outputId": "6d728e12-e75b-46d7-e016-95e2319cb369"
      },
      "outputs": [
        {
          "output_type": "stream",
          "name": "stderr",
          "text": [
            "/usr/local/lib/python3.10/dist-packages/langchain/llms/openai.py:200: UserWarning: You are trying to use a chat model. This way of initializing it is no longer supported. Instead, please use: `from langchain.chat_models import ChatOpenAI`\n",
            "  warnings.warn(\n",
            "/usr/local/lib/python3.10/dist-packages/langchain/llms/openai.py:801: UserWarning: You are trying to use a chat model. This way of initializing it is no longer supported. Instead, please use: `from langchain.chat_models import ChatOpenAI`\n",
            "  warnings.warn(\n"
          ]
        }
      ],
      "source": [
        "llm = AzureOpenAI( temperature=0,\n",
        "    engine=\"GPT4-8k\",\n",
        "    model_name=\"gpt-4\",\n",
        "    headers={\n",
        "      \"Helicone-Auth\": \"Helicone-Auth\",\n",
        "      \"Helicone-User-Id\": \"Helicone-User-Id\"\n",
        "    })"
      ]
    },
    {
      "cell_type": "code",
      "source": [
        "job_description = \"\"\"\n",
        "We're seeking talented Junior Python Engineers to become part of our team!! Our Junior Python Developer wears multiple hats on their projects and is responsible for building and maintaining Python applications and interacting with other developers, designers, and stakeholders on their projects.\n",
        "\n",
        "You must have the skills to write a plethora of unit tests for your code to guarantee all functionality is being achieved. You will need good collaboration and communication skills as you will be spending a lot of time with experienced engineers and understanding how they do their jobs. Moreover, should have in-depth knowledge of object-relational mapping, familiarity with server-side logic, and above-average Python programming skills.\n",
        "Roles and Responsibilities\n",
        "‍\n",
        "\n",
        "Python application development, testing, and maintenance\n",
        "Working with other developers, designers, and stakeholders to satisfy project needs.\n",
        "Troubleshooting and code debugging\n",
        "Developing and maintaining code and application documentation\n",
        "Participating in code reviews and contributing to best practices for the team\n",
        "Maintaining current knowledge of emerging technologies, programming languages, and software development techniques.\n",
        "Using server-side logic to integrate user-facing aspects\n",
        "Ensuring client feature requests are being evaluated and prioritized.\n",
        "Blending data storage options together.\n",
        "Coordinating with front-end developers.\n",
        "Optimising existing databases reprogrammed to increase functionality.\n",
        "Creating digital technologies to track web traffic.\n",
        "Improve responsiveness and overall performance by developing back-end components.\n",
        "Enhance the functionality of existing systems.\n",
        "Deploy data security and protection solutions.\n",
        "‍\n",
        "Requirements and Skills\n",
        "‍\n",
        "Expertise in Python and associated frameworks such as Django and Flask.\n",
        "Comprehensive knowledge of Python's multi-process architecture and threading restrictions.\n",
        "Knowledge of server-side templating languages such as Jinja 2 and Mako.\n",
        "Understanding of integration of many data sources into a single system.\n",
        "Ability to work collaboratively on projects as well as independently when necessary.\n",
        "Quick learner with the capacity to modify approaches dependent on the situation.\n",
        "Awareness of how to test Python programs successfully.\n",
        "Excellent communication and teamwork abilities.\n",
        "Knowledge of front-end technology (like JavaScript and HTML5)\n",
        "Excellent problem-solving abilities\n",
        "Bachelor of Science in Computer Science, Engineering, or a related discipline.\n",
        "Understanding front-end technologies such as JavaScript, HTML5, and CSS3 is required.\n",
        "Knowledge of some ORM (Object Relational Mapper) libraries\n",
        "Capable of combining many data sources and databases into a single system\n",
        "User authentication and authorization knowledge are required across many systems, servers, and environments.\n",
        "\n",
        "\"\"\"\n",
        "\n",
        "with get_openai_callback() as cb:\n",
        "    jd_prompt = f\"\"\"\n",
        "               You are an experienced HR recruiter, your role involves receiving a ```{job_description}``` for a specific position.\n",
        "               Your primary responsibility is to compile a list of essential requirements and skills mentioned in the job description.\n",
        "               Kindly provide the main points in the form of a string list.\n",
        "               Example : - Point1 - Point2\n",
        "              \"\"\"\n",
        "    response = llm(jd_prompt)\n",
        "# Split the text into separate lines based on the bullet pattern\n",
        "    bracking_lines = response.split('\\n')\n",
        "# Remove empty lines (if any)\n",
        "    bracking_lines = [line.strip() for line in bracking_lines if line.strip()]\n",
        "# Create a list by splitting each line on the numbering and discarding the numbering itself\n",
        "    expertise_list = [line.split('- ')[1] for line in bracking_lines]\n",
        "    print(expertise_list)\n",
        "    print(cb)"
      ],
      "metadata": {
        "colab": {
          "base_uri": "https://localhost:8080/"
        },
        "id": "yYmorQEp-DlV",
        "outputId": "0d0c6456-4226-4307-b0de-4eec2b236c69"
      },
      "execution_count": null,
      "outputs": [
        {
          "output_type": "stream",
          "name": "stderr",
          "text": [
            "WARNING:langchain.callbacks.tracers.langchain_v1:Failed to load 04-08-2023 session, using empty session: HTTPConnectionPool(host='localhost', port=8000): Max retries exceeded with url: /sessions?name=04-08-2023 (Caused by NewConnectionError('<urllib3.connection.HTTPConnection object at 0x7b27faed33a0>: Failed to establish a new connection: [Errno 111] Connection refused'))\n",
            "WARNING:root:Detected likely invalid Azure API URL when proxying Helicone with proxy url http://oai.hconeai.com/v1. Removing '/v1' from the end.\n",
            "WARNING:langchain.callbacks.tracers.langchain_v1:Failed to persist run: HTTPConnectionPool(host='localhost', port=8000): Max retries exceeded with url: /llm-runs (Caused by NewConnectionError('<urllib3.connection.HTTPConnection object at 0x7b27faed3d00>: Failed to establish a new connection: [Errno 111] Connection refused'))\n"
          ]
        },
        {
          "output_type": "stream",
          "name": "stdout",
          "text": [
            "['Expertise in Python and associated frameworks such as Django and Flask', \"Comprehensive knowledge of Python's multi-process architecture and threading restrictions\", 'Knowledge of server-side templating languages such as Jinja 2 and Mako', 'Understanding of integration of many data sources into a single system', 'Ability to work collaboratively on projects as well as independently when necessary', 'Quick learner with the capacity to modify approaches dependent on the situation', 'Awareness of how to test Python programs successfully', 'Excellent communication and teamwork abilities', 'Knowledge of front-end technology (like JavaScript and HTML5)', 'Excellent problem-solving abilities', 'Bachelor of Science in Computer Science, Engineering, or a related discipline', 'Understanding front-end technologies such as JavaScript, HTML5, and CSS3 is required', 'Knowledge of some ORM (Object Relational Mapper) libraries', 'Capable of combining many data sources and databases into a single system', 'User authentication and authorization knowledge are required across many systems, servers, and environments']\n",
            "Tokens Used: 757\n",
            "\tPrompt Tokens: 557\n",
            "\tCompletion Tokens: 200\n",
            "Successful Requests: 1\n",
            "Total Cost (USD): $0.028710000000000003\n"
          ]
        }
      ]
    },
    {
      "cell_type": "code",
      "execution_count": null,
      "metadata": {
        "id": "XKzhLidUPXG8",
        "colab": {
          "base_uri": "https://localhost:8080/"
        },
        "outputId": "1dc219bd-c158-4189-e194-e8dd8b286b2f"
      },
      "outputs": [
        {
          "output_type": "stream",
          "name": "stdout",
          "text": [
            "['Name', 'Gender', 'Address', 'Expertise in Python and associated frameworks such as Django and Flask', \"Comprehensive knowledge of Python's multi-process architecture and threading restrictions\", 'Knowledge of server-side templating languages such as Jinja 2 and Mako', 'Understanding of integration of many data sources into a single system', 'Ability to work collaboratively on projects as well as independently when necessary', 'Quick learner with the capacity to modify approaches dependent on the situation', 'Awareness of how to test Python programs successfully', 'Excellent communication and teamwork abilities', 'Knowledge of front-end technology (like JavaScript and HTML5)', 'Excellent problem-solving abilities', 'Bachelor of Science in Computer Science, Engineering, or a related discipline', 'Understanding front-end technologies such as JavaScript, HTML5, and CSS3 is required', 'Knowledge of some ORM (Object Relational Mapper) libraries', 'Capable of combining many data sources and databases into a single system', 'User authentication and authorization knowledge are required across many systems, servers, and environments', 'Skill Matched Percentage', 'Source']\n"
          ]
        }
      ],
      "source": [
        "make_copy_expertise_list = expertise_list.copy()\n",
        "make_copy_expertise_list.insert(0,\"Address\")\n",
        "make_copy_expertise_list.insert(0,\"Gender\")\n",
        "make_copy_expertise_list.insert(0,\"Name\")\n",
        "make_copy_expertise_list.append(\"Skill Matched Percentage\")\n",
        "make_copy_expertise_list.append(\"Source\")\n",
        "print(make_copy_expertise_list)\n",
        "df = pd.DataFrame( columns=make_copy_expertise_list)"
      ]
    },
    {
      "cell_type": "code",
      "execution_count": null,
      "metadata": {
        "colab": {
          "base_uri": "https://localhost:8080/"
        },
        "id": "w9YKUWjMKIer",
        "outputId": "a6eb584b-aa6e-47b4-976e-70bcaade311a"
      },
      "outputs": [
        {
          "output_type": "stream",
          "name": "stdout",
          "text": [
            "Mounted at /content/gdrive\n"
          ]
        }
      ],
      "source": [
        "# connect your Google Drive\n",
        "from google.colab import drive\n",
        "drive.mount('/content/gdrive', force_remount=True)\n",
        "root_dir = \"/content/gdrive/My Drive/\"\n",
        "pdf_folder_path = \"/content/gdrive/My Drive/data1/\"\n",
        "loaders = [UnstructuredPDFLoader(os.path.join(pdf_folder_path, fn)) for fn in os.listdir(pdf_folder_path)]\n",
        "\n",
        "# Split text into chunk\n",
        "text_splitter = CharacterTextSplitter(\n",
        "    separator = \"\\n\\n\",\n",
        "    chunk_size = 1000,\n",
        "    chunk_overlap  = 200,\n",
        "    length_function = len,\n",
        ")"
      ]
    },
    {
      "cell_type": "code",
      "execution_count": null,
      "metadata": {
        "colab": {
          "base_uri": "https://localhost:8080/"
        },
        "id": "o2L8iMw4PDOC",
        "outputId": "f6b06049-5538-47ae-e7ba-b9f0677f6453"
      },
      "outputs": [
        {
          "output_type": "stream",
          "name": "stderr",
          "text": [
            "[nltk_data] Downloading package punkt to /root/nltk_data...\n",
            "[nltk_data]   Unzipping tokenizers/punkt.zip.\n",
            "[nltk_data] Downloading package averaged_perceptron_tagger to\n",
            "[nltk_data]     /root/nltk_data...\n",
            "[nltk_data]   Unzipping taggers/averaged_perceptron_tagger.zip.\n",
            "/usr/local/lib/python3.10/dist-packages/langchain/embeddings/openai.py:214: UserWarning: WARNING! deployment_id is not default parameter.\n",
            "                    deployment_id was transferred to model_kwargs.\n",
            "                    Please confirm that deployment_id is what you intended.\n",
            "  warnings.warn(\n",
            "WARNING:root:Detected likely invalid Azure API URL when proxying Helicone with proxy url http://oai.hconeai.com/v1. Removing '/v1' from the end.\n",
            "WARNING:root:Detected likely invalid Azure API URL when proxying Helicone with proxy url http://oai.hconeai.com/v1. Removing '/v1' from the end.\n",
            "WARNING:root:Detected likely invalid Azure API URL when proxying Helicone with proxy url http://oai.hconeai.com/v1. Removing '/v1' from the end.\n",
            "WARNING:root:Detected likely invalid Azure API URL when proxying Helicone with proxy url http://oai.hconeai.com/v1. Removing '/v1' from the end.\n",
            "WARNING:root:Detected likely invalid Azure API URL when proxying Helicone with proxy url http://oai.hconeai.com/v1. Removing '/v1' from the end.\n"
          ]
        }
      ],
      "source": [
        "#create index and store in persist_directory\n",
        "\n",
        "persist_directory = 'dbNew'\n",
        "\n",
        "for documents in loaders:\n",
        "    data = documents.load()\n",
        "    texts = text_splitter.split_documents(data)\n",
        "    embeddings = OpenAIEmbeddings(deployment_id=\"GPTVectorization\",\n",
        "                              chunk_size=1,\n",
        "                               headers={\n",
        "                                           \"Helicone-Auth\": \"Helicone-Auth\",\n",
        "                                           \"Helicone-User-Id\": \"Helicone-User-Id\"\n",
        "                                     })\n",
        "\n",
        "    vectordb = Chroma.from_documents(documents=texts,\n",
        "                                 embedding=embeddings,\n",
        "                                 persist_directory=persist_directory)\n",
        "    vectordb.persist()\n",
        "\n",
        "\n",
        "\n"
      ]
    },
    {
      "cell_type": "code",
      "source": [
        "persist_directory = 'dbNew'\n",
        "\n",
        "embeddings = OpenAIEmbeddings(deployment_id=\"GPTVectorization\",\n",
        "                              chunk_size=1,\n",
        "                               headers={\n",
        "                                           \"Helicone-Auth\": \"Helicone-Auth\",\n",
        "                                           \"Helicone-User-Id\": \"Helicone-User-Id\"\n",
        "                                     })\n",
        "\n",
        "storedb = Chroma(persist_directory=persist_directory,\n",
        "                  embedding_function=embeddings)\n"
      ],
      "metadata": {
        "id": "QIxQWjt1M4D1"
      },
      "execution_count": null,
      "outputs": []
    },
    {
      "cell_type": "code",
      "source": [
        "# Getting the unique source document\n",
        "\n",
        "get_documents = storedb.get()\n",
        "unique_sources = []\n",
        "for i in range(len(get_documents['documents'])):\n",
        "    if get_documents[\"metadatas\"][i] not in unique_sources:\n",
        "        unique_sources.append(get_documents['metadatas'][i])\n",
        "\n",
        "# Getting all documents with source\n",
        "\n",
        "all_document_with_source = []\n",
        "for source in unique_sources:\n",
        "    fetch_document=[]\n",
        "    new_source = source[\"source\"]\n",
        "    get_documents = storedb.get(where={\"source\" : new_source})\n",
        "    for i in range(len(get_documents['documents'])):\n",
        "        fetch_document.append({\"page_content\":get_documents['documents'][i],\"metadata\":get_documents['metadatas'][i]})\n",
        "    all_document_with_source.append(fetch_document)\n",
        "\n",
        "# Creating documents for query\n",
        "\n",
        "document_created_for_query = []\n",
        "for document_data in all_document_with_source:\n",
        "    new_array=[]\n",
        "    for get_single_document in document_data:\n",
        "        data_dict = get_single_document\n",
        "        Data = namedtuple('Document', data_dict.keys())\n",
        "        converted_dict_data = Data(**data_dict)\n",
        "        new_array.append(converted_dict_data)\n",
        "    document_created_for_query.append(new_array)\n",
        "\n",
        "# Using refine chain\n",
        "\n",
        "chain = load_qa_chain(llm, chain_type=\"refine\")\n"
      ],
      "metadata": {
        "id": "IxVoDsSgM5Zt"
      },
      "execution_count": null,
      "outputs": []
    },
    {
      "cell_type": "code",
      "source": [
        "# Asking questions from the documents and set into the dataframe\n",
        "\n",
        "all_skills = ','.join(expertise_list)\n",
        "for docs in document_created_for_query:\n",
        "    with get_openai_callback() as cb:\n",
        "        start_time = time.time()\n",
        "        query = f'''\n",
        "             Your task is to extract answer of question.\n",
        "             Question : What is the Name of Candidate,their Gender(if gender is present then give gender as Male/Female otherwise pridict the gender as per the name) and their address/location give this one by one in list?\n",
        "                        also find that the candidate possesses each of the skills``` {all_skills}``` and provide answer for skills in YES/No with small comment that satisfy your answer? After that Check Skill Matched Percentage question?\n",
        "             Example : ['Name: Ram Pal', 'Gender: Male', 'Address: Bhopal, India', \"{expertise_list[0]}: Yes, the candidate has experience in Python.\", \"{expertise_list[1]}: No, Django and Flask are not mentioned.\", \"{expertise_list[2]}: No, not mentioned.\", \"{expertise_list[3]}: No, not mentioned.\", \"{expertise_list[4]}: No, not mentioned.\", \"{expertise_list[5]}: Yes, the candidate has guided students in many academic projects.\", \"{expertise_list[6]}: No, not mentioned.\", \"{expertise_list[7]}: No, not mentioned.\", \"{expertise_list[8]}: Yes, the candidate has experience in teaching and working with students.\", \"{expertise_list[9]}: Yes, the candidate has experience with HTML5, CSS3, and JavaScript.\", \"{expertise_list[10]}: No, not mentioned.\", \"{expertise_list[11]}: Yes, the candidate has a Bachelor in Engineering degree.\", \"{expertise_list[11]}: Yes, the candidate has experience with HTML5, CSS3, and JavaScript.\", \"{expertise_list[12]}: No, not mentioned.\", \"{expertise_list[13]}: No, not mentioned.\", \"{expertise_list[14]}: No, not mentioned.\", 'Skill Matched Percentage: 39%']\n",
        "\n",
        "             '''\n",
        "        query_response = chain({\"input_documents\": docs, \"question\": query})\n",
        "        print(query_response[\"output_text\"])\n",
        "\n",
        "        data_extracted_from_resume = ast.literal_eval(query_response[\"output_text\"])\n",
        "        print(len(data_extracted_from_resume))\n",
        "\n",
        "        # Define the new row to be added\n",
        "\n",
        "        new_row={\"Source\":docs[0].metadata['source']}\n",
        "        for i in range(len(data_extracted_from_resume)):\n",
        "            extract_field = data_extracted_from_resume[i].split(\":\")\n",
        "            new_row[extract_field[0].strip()] = extract_field[1].strip()\n",
        "\n",
        "        # Use the loc method to add the new row to the DataFrame\n",
        "\n",
        "        print(new_row)\n",
        "        df.loc[len(df)] = new_row\n",
        "\n",
        "        # Record ending time\n",
        "        end_time = time.time()\n",
        "\n",
        "        # Calculate elapsed time\n",
        "        elapsed_time = end_time - start_time\n",
        "\n",
        "        print(f\"Elapsed time: {elapsed_time:.6f} seconds\")\n",
        "        print(cb)\n",
        "\n"
      ],
      "metadata": {
        "id": "kOxb46qnNDZp",
        "colab": {
          "base_uri": "https://localhost:8080/"
        },
        "outputId": "1318eacf-12ca-481a-bdf8-18402eadfbfe"
      },
      "execution_count": null,
      "outputs": [
        {
          "output_type": "stream",
          "name": "stderr",
          "text": [
            "WARNING:langchain.callbacks.tracers.langchain_v1:Failed to load 04-08-2023 session, using empty session: HTTPConnectionPool(host='localhost', port=8000): Max retries exceeded with url: /sessions?name=04-08-2023 (Caused by NewConnectionError('<urllib3.connection.HTTPConnection object at 0x7b27e5e66050>: Failed to establish a new connection: [Errno 111] Connection refused'))\n",
            "WARNING:root:Detected likely invalid Azure API URL when proxying Helicone with proxy url http://oai.hconeai.com/v1. Removing '/v1' from the end.\n",
            "WARNING:root:Detected likely invalid Azure API URL when proxying Helicone with proxy url http://oai.hconeai.com/v1. Removing '/v1' from the end.\n",
            "WARNING:langchain.callbacks.tracers.langchain_v1:Failed to persist run: HTTPConnectionPool(host='localhost', port=8000): Max retries exceeded with url: /chain-runs (Caused by NewConnectionError('<urllib3.connection.HTTPConnection object at 0x7b27e91b2680>: Failed to establish a new connection: [Errno 111] Connection refused'))\n",
            "WARNING:langchain.callbacks.tracers.langchain_v1:Failed to load 04-08-2023 session, using empty session: HTTPConnectionPool(host='localhost', port=8000): Max retries exceeded with url: /sessions?name=04-08-2023 (Caused by NewConnectionError('<urllib3.connection.HTTPConnection object at 0x7b27e91b0f40>: Failed to establish a new connection: [Errno 111] Connection refused'))\n",
            "WARNING:root:Detected likely invalid Azure API URL when proxying Helicone with proxy url http://oai.hconeai.com/v1. Removing '/v1' from the end.\n"
          ]
        },
        {
          "output_type": "stream",
          "name": "stdout",
          "text": [
            "['Name: Vikas Jagdishchandra Verma', 'Gender: Male', 'Address: Not mentioned', \"Expertise in Python and associated frameworks such as Django and Flask: Yes, the candidate has experience in Flask.\", \"Comprehensive knowledge of Python's multi-process architecture and threading restrictions: No, not mentioned.\", \"Knowledge of server-side templating languages such as Jinja 2 and Mako: No, not mentioned.\", \"Understanding of integration of many data sources into a single system: No, not mentioned.\", \"Ability to work collaboratively on projects as well as independently when necessary: Yes, the candidate is seeking a role in a company that values self-motivated workers.\", \"Quick learner with the capacity to modify approaches dependent on the situation: No, not mentioned.\", \"Awareness of how to test Python programs successfully: No, not mentioned.\", \"Excellent communication and teamwork abilities: No, not mentioned.\", \"Knowledge of front-end technology (like JavaScript and HTML5): Yes, the candidate has experience in HTML.\", \"Excellent problem-solving abilities: No, not mentioned.\", \"Bachelor of Science in Computer Science, Engineering, or a related discipline: Yes, the candidate has a BE in Electronics & Telecommunication.\", \"Understanding front-end technologies such as JavaScript, HTML5, and CSS3 is required: No, only HTML is mentioned.\", \"Knowledge of some ORM (Object Relational Mapper) libraries: No, not mentioned.\", \"Capable of combining many data sources and databases into a single system: No, not mentioned.\", \"User authentication and authorization knowledge are required across many systems, servers, and environments: No, not mentioned.\", 'Skill Matched Percentage: 26%']\n",
            "19\n",
            "{'Source': '/content/gdrive/My Drive/data1/Vikas_Verma_Resume_CE9D664967 (3).pdf', 'Name': 'Vikas Jagdishchandra Verma', 'Gender': 'Male', 'Address': 'Not mentioned', 'Expertise in Python and associated frameworks such as Django and Flask': 'Yes, the candidate has experience in Flask.', \"Comprehensive knowledge of Python's multi-process architecture and threading restrictions\": 'No, not mentioned.', 'Knowledge of server-side templating languages such as Jinja 2 and Mako': 'No, not mentioned.', 'Understanding of integration of many data sources into a single system': 'No, not mentioned.', 'Ability to work collaboratively on projects as well as independently when necessary': 'Yes, the candidate is seeking a role in a company that values self-motivated workers.', 'Quick learner with the capacity to modify approaches dependent on the situation': 'No, not mentioned.', 'Awareness of how to test Python programs successfully': 'No, not mentioned.', 'Excellent communication and teamwork abilities': 'No, not mentioned.', 'Knowledge of front-end technology (like JavaScript and HTML5)': 'Yes, the candidate has experience in HTML.', 'Excellent problem-solving abilities': 'No, not mentioned.', 'Bachelor of Science in Computer Science, Engineering, or a related discipline': 'Yes, the candidate has a BE in Electronics & Telecommunication.', 'Understanding front-end technologies such as JavaScript, HTML5, and CSS3 is required': 'No, only HTML is mentioned.', 'Knowledge of some ORM (Object Relational Mapper) libraries': 'No, not mentioned.', 'Capable of combining many data sources and databases into a single system': 'No, not mentioned.', 'User authentication and authorization knowledge are required across many systems, servers, and environments': 'No, not mentioned.', 'Skill Matched Percentage': '26%'}\n",
            "Elapsed time: 68.858038 seconds\n",
            "Tokens Used: 2855\n",
            "\tPrompt Tokens: 2169\n",
            "\tCompletion Tokens: 686\n",
            "Successful Requests: 2\n",
            "Total Cost (USD): $0.10623\n"
          ]
        },
        {
          "output_type": "stream",
          "name": "stderr",
          "text": [
            "WARNING:root:Detected likely invalid Azure API URL when proxying Helicone with proxy url http://oai.hconeai.com/v1. Removing '/v1' from the end.\n",
            "WARNING:root:Detected likely invalid Azure API URL when proxying Helicone with proxy url http://oai.hconeai.com/v1. Removing '/v1' from the end.\n",
            "WARNING:langchain.callbacks.tracers.langchain_v1:Failed to persist run: HTTPConnectionPool(host='localhost', port=8000): Max retries exceeded with url: /chain-runs (Caused by NewConnectionError('<urllib3.connection.HTTPConnection object at 0x7b27e91b1000>: Failed to establish a new connection: [Errno 111] Connection refused'))\n"
          ]
        },
        {
          "output_type": "stream",
          "name": "stdout",
          "text": [
            "['Name: Vijay Koppadi', 'Gender: Male', 'Address: Malikipuram, Andhra Pradesh, India', \"Expertise in Python and associated frameworks such as Django and Flask: No, Django and Flask are not mentioned.\", \"Comprehensive knowledge of Python's multi-process architecture and threading restrictions: No, not mentioned.\", \"Knowledge of server-side templating languages such as Jinja 2 and Mako: No, not mentioned.\", \"Understanding of integration of many data sources into a single system: No, not mentioned.\", \"Ability to work collaboratively on projects as well as independently when necessary: Yes, the candidate has guided students in many academic projects.\", \"Quick learner with the capacity to modify approaches dependent on the situation: No, not mentioned.\", \"Awareness of how to test Python programs successfully: No, not mentioned.\", \"Excellent communication and teamwork abilities: Yes, the candidate has experience in teaching and working with students.\", \"Knowledge of front-end technology (like JavaScript and HTML5): No, not mentioned.\", \"Excellent problem-solving abilities: No, not mentioned.\", \"Bachelor of Science in Computer Science, Engineering, or a related discipline: Yes, the candidate has a Bachelor in Engineering degree.\", \"Understanding front-end technologies such as JavaScript, HTML5, and CSS3 is required: No, not mentioned.\", \"Knowledge of some ORM (Object Relational Mapper) libraries: No, not mentioned.\", \"Capable of combining many data sources and databases into a single system: No, not mentioned.\", \"User authentication and authorization knowledge are required across many systems, servers, and environments: No, not mentioned.\", 'Skill Matched Percentage: 26%']\n",
            "19\n",
            "{'Source': \"/content/gdrive/My Drive/data1/vijay's_Resume_A2F18103E1 (2).pdf\", 'Name': 'Vijay Koppadi', 'Gender': 'Male', 'Address': 'Malikipuram, Andhra Pradesh, India', 'Expertise in Python and associated frameworks such as Django and Flask': 'No, Django and Flask are not mentioned.', \"Comprehensive knowledge of Python's multi-process architecture and threading restrictions\": 'No, not mentioned.', 'Knowledge of server-side templating languages such as Jinja 2 and Mako': 'No, not mentioned.', 'Understanding of integration of many data sources into a single system': 'No, not mentioned.', 'Ability to work collaboratively on projects as well as independently when necessary': 'Yes, the candidate has guided students in many academic projects.', 'Quick learner with the capacity to modify approaches dependent on the situation': 'No, not mentioned.', 'Awareness of how to test Python programs successfully': 'No, not mentioned.', 'Excellent communication and teamwork abilities': 'Yes, the candidate has experience in teaching and working with students.', 'Knowledge of front-end technology (like JavaScript and HTML5)': 'No, not mentioned.', 'Excellent problem-solving abilities': 'No, not mentioned.', 'Bachelor of Science in Computer Science, Engineering, or a related discipline': 'Yes, the candidate has a Bachelor in Engineering degree.', 'Understanding front-end technologies such as JavaScript, HTML5, and CSS3 is required': 'No, not mentioned.', 'Knowledge of some ORM (Object Relational Mapper) libraries': 'No, not mentioned.', 'Capable of combining many data sources and databases into a single system': 'No, not mentioned.', 'User authentication and authorization knowledge are required across many systems, servers, and environments': 'No, not mentioned.', 'Skill Matched Percentage': '26%'}\n",
            "Elapsed time: 106.525433 seconds\n",
            "Tokens Used: 4571\n",
            "\tPrompt Tokens: 3548\n",
            "\tCompletion Tokens: 1023\n",
            "Successful Requests: 3\n",
            "Total Cost (USD): $0.16782000000000002\n"
          ]
        }
      ]
    },
    {
      "cell_type": "code",
      "execution_count": null,
      "metadata": {
        "id": "o7PSron6_Li6",
        "colab": {
          "base_uri": "https://localhost:8080/",
          "height": 453
        },
        "outputId": "e37ef5b3-ecc8-4e34-cff3-1fed72f396a0"
      },
      "outputs": [
        {
          "output_type": "display_data",
          "data": {
            "text/plain": [
              "                         Name Gender                             Address  \\\n",
              "0  Vikas Jagdishchandra Verma   Male                       Not mentioned   \n",
              "1               Vijay Koppadi   Male  Malikipuram, Andhra Pradesh, India   \n",
              "\n",
              "  Expertise in Python and associated frameworks such as Django and Flask  \\\n",
              "0        Yes, the candidate has experience in Flask.                       \n",
              "1            No, Django and Flask are not mentioned.                       \n",
              "\n",
              "  Comprehensive knowledge of Python's multi-process architecture and threading restrictions  \\\n",
              "0                                 No, not mentioned.                                          \n",
              "1                                 No, not mentioned.                                          \n",
              "\n",
              "  Knowledge of server-side templating languages such as Jinja 2 and Mako  \\\n",
              "0                                 No, not mentioned.                       \n",
              "1                                 No, not mentioned.                       \n",
              "\n",
              "  Understanding of integration of many data sources into a single system  \\\n",
              "0                                 No, not mentioned.                       \n",
              "1                                 No, not mentioned.                       \n",
              "\n",
              "  Ability to work collaboratively on projects as well as independently when necessary  \\\n",
              "0  Yes, the candidate is seeking a role in a comp...                                    \n",
              "1  Yes, the candidate has guided students in many...                                    \n",
              "\n",
              "  Quick learner with the capacity to modify approaches dependent on the situation  \\\n",
              "0                                 No, not mentioned.                                \n",
              "1                                 No, not mentioned.                                \n",
              "\n",
              "  Awareness of how to test Python programs successfully  \\\n",
              "0                                 No, not mentioned.      \n",
              "1                                 No, not mentioned.      \n",
              "\n",
              "      Excellent communication and teamwork abilities  \\\n",
              "0                                 No, not mentioned.   \n",
              "1  Yes, the candidate has experience in teaching ...   \n",
              "\n",
              "  Knowledge of front-end technology (like JavaScript and HTML5)  \\\n",
              "0         Yes, the candidate has experience in HTML.              \n",
              "1                                 No, not mentioned.              \n",
              "\n",
              "  Excellent problem-solving abilities  \\\n",
              "0                  No, not mentioned.   \n",
              "1                  No, not mentioned.   \n",
              "\n",
              "  Bachelor of Science in Computer Science, Engineering, or a related discipline  \\\n",
              "0  Yes, the candidate has a BE in Electronics & T...                              \n",
              "1  Yes, the candidate has a Bachelor in Engineeri...                              \n",
              "\n",
              "  Understanding front-end technologies such as JavaScript, HTML5, and CSS3 is required  \\\n",
              "0                        No, only HTML is mentioned.                                     \n",
              "1                                 No, not mentioned.                                     \n",
              "\n",
              "  Knowledge of some ORM (Object Relational Mapper) libraries  \\\n",
              "0                                 No, not mentioned.           \n",
              "1                                 No, not mentioned.           \n",
              "\n",
              "  Capable of combining many data sources and databases into a single system  \\\n",
              "0                                 No, not mentioned.                          \n",
              "1                                 No, not mentioned.                          \n",
              "\n",
              "  User authentication and authorization knowledge are required across many systems, servers, and environments  \\\n",
              "0                                 No, not mentioned.                                                            \n",
              "1                                 No, not mentioned.                                                            \n",
              "\n",
              "  Skill Matched Percentage                                             Source  \n",
              "0                      26%  /content/gdrive/My Drive/data1/Vikas_Verma_Res...  \n",
              "1                      26%  /content/gdrive/My Drive/data1/vijay's_Resume_...  "
            ],
            "text/html": [
              "\n",
              "\n",
              "  <div id=\"df-78f8229f-eb6d-492b-92a0-13a7d1f2df9f\">\n",
              "    <div class=\"colab-df-container\">\n",
              "      <div>\n",
              "<style scoped>\n",
              "    .dataframe tbody tr th:only-of-type {\n",
              "        vertical-align: middle;\n",
              "    }\n",
              "\n",
              "    .dataframe tbody tr th {\n",
              "        vertical-align: top;\n",
              "    }\n",
              "\n",
              "    .dataframe thead th {\n",
              "        text-align: right;\n",
              "    }\n",
              "</style>\n",
              "<table border=\"1\" class=\"dataframe\">\n",
              "  <thead>\n",
              "    <tr style=\"text-align: right;\">\n",
              "      <th></th>\n",
              "      <th>Name</th>\n",
              "      <th>Gender</th>\n",
              "      <th>Address</th>\n",
              "      <th>Expertise in Python and associated frameworks such as Django and Flask</th>\n",
              "      <th>Comprehensive knowledge of Python's multi-process architecture and threading restrictions</th>\n",
              "      <th>Knowledge of server-side templating languages such as Jinja 2 and Mako</th>\n",
              "      <th>Understanding of integration of many data sources into a single system</th>\n",
              "      <th>Ability to work collaboratively on projects as well as independently when necessary</th>\n",
              "      <th>Quick learner with the capacity to modify approaches dependent on the situation</th>\n",
              "      <th>Awareness of how to test Python programs successfully</th>\n",
              "      <th>Excellent communication and teamwork abilities</th>\n",
              "      <th>Knowledge of front-end technology (like JavaScript and HTML5)</th>\n",
              "      <th>Excellent problem-solving abilities</th>\n",
              "      <th>Bachelor of Science in Computer Science, Engineering, or a related discipline</th>\n",
              "      <th>Understanding front-end technologies such as JavaScript, HTML5, and CSS3 is required</th>\n",
              "      <th>Knowledge of some ORM (Object Relational Mapper) libraries</th>\n",
              "      <th>Capable of combining many data sources and databases into a single system</th>\n",
              "      <th>User authentication and authorization knowledge are required across many systems, servers, and environments</th>\n",
              "      <th>Skill Matched Percentage</th>\n",
              "      <th>Source</th>\n",
              "    </tr>\n",
              "  </thead>\n",
              "  <tbody>\n",
              "    <tr>\n",
              "      <th>0</th>\n",
              "      <td>Vikas Jagdishchandra Verma</td>\n",
              "      <td>Male</td>\n",
              "      <td>Not mentioned</td>\n",
              "      <td>Yes, the candidate has experience in Flask.</td>\n",
              "      <td>No, not mentioned.</td>\n",
              "      <td>No, not mentioned.</td>\n",
              "      <td>No, not mentioned.</td>\n",
              "      <td>Yes, the candidate is seeking a role in a comp...</td>\n",
              "      <td>No, not mentioned.</td>\n",
              "      <td>No, not mentioned.</td>\n",
              "      <td>No, not mentioned.</td>\n",
              "      <td>Yes, the candidate has experience in HTML.</td>\n",
              "      <td>No, not mentioned.</td>\n",
              "      <td>Yes, the candidate has a BE in Electronics &amp; T...</td>\n",
              "      <td>No, only HTML is mentioned.</td>\n",
              "      <td>No, not mentioned.</td>\n",
              "      <td>No, not mentioned.</td>\n",
              "      <td>No, not mentioned.</td>\n",
              "      <td>26%</td>\n",
              "      <td>/content/gdrive/My Drive/data1/Vikas_Verma_Res...</td>\n",
              "    </tr>\n",
              "    <tr>\n",
              "      <th>1</th>\n",
              "      <td>Vijay Koppadi</td>\n",
              "      <td>Male</td>\n",
              "      <td>Malikipuram, Andhra Pradesh, India</td>\n",
              "      <td>No, Django and Flask are not mentioned.</td>\n",
              "      <td>No, not mentioned.</td>\n",
              "      <td>No, not mentioned.</td>\n",
              "      <td>No, not mentioned.</td>\n",
              "      <td>Yes, the candidate has guided students in many...</td>\n",
              "      <td>No, not mentioned.</td>\n",
              "      <td>No, not mentioned.</td>\n",
              "      <td>Yes, the candidate has experience in teaching ...</td>\n",
              "      <td>No, not mentioned.</td>\n",
              "      <td>No, not mentioned.</td>\n",
              "      <td>Yes, the candidate has a Bachelor in Engineeri...</td>\n",
              "      <td>No, not mentioned.</td>\n",
              "      <td>No, not mentioned.</td>\n",
              "      <td>No, not mentioned.</td>\n",
              "      <td>No, not mentioned.</td>\n",
              "      <td>26%</td>\n",
              "      <td>/content/gdrive/My Drive/data1/vijay's_Resume_...</td>\n",
              "    </tr>\n",
              "  </tbody>\n",
              "</table>\n",
              "</div>\n",
              "      <button class=\"colab-df-convert\" onclick=\"convertToInteractive('df-78f8229f-eb6d-492b-92a0-13a7d1f2df9f')\"\n",
              "              title=\"Convert this dataframe to an interactive table.\"\n",
              "              style=\"display:none;\">\n",
              "\n",
              "  <svg xmlns=\"http://www.w3.org/2000/svg\" height=\"24px\"viewBox=\"0 0 24 24\"\n",
              "       width=\"24px\">\n",
              "    <path d=\"M0 0h24v24H0V0z\" fill=\"none\"/>\n",
              "    <path d=\"M18.56 5.44l.94 2.06.94-2.06 2.06-.94-2.06-.94-.94-2.06-.94 2.06-2.06.94zm-11 1L8.5 8.5l.94-2.06 2.06-.94-2.06-.94L8.5 2.5l-.94 2.06-2.06.94zm10 10l.94 2.06.94-2.06 2.06-.94-2.06-.94-.94-2.06-.94 2.06-2.06.94z\"/><path d=\"M17.41 7.96l-1.37-1.37c-.4-.4-.92-.59-1.43-.59-.52 0-1.04.2-1.43.59L10.3 9.45l-7.72 7.72c-.78.78-.78 2.05 0 2.83L4 21.41c.39.39.9.59 1.41.59.51 0 1.02-.2 1.41-.59l7.78-7.78 2.81-2.81c.8-.78.8-2.07 0-2.86zM5.41 20L4 18.59l7.72-7.72 1.47 1.35L5.41 20z\"/>\n",
              "  </svg>\n",
              "      </button>\n",
              "\n",
              "\n",
              "\n",
              "    <div id=\"df-03e0157e-5e36-4162-a46f-2720f1b9ca8d\">\n",
              "      <button class=\"colab-df-quickchart\" onclick=\"quickchart('df-03e0157e-5e36-4162-a46f-2720f1b9ca8d')\"\n",
              "              title=\"Suggest charts.\"\n",
              "              style=\"display:none;\">\n",
              "\n",
              "<svg xmlns=\"http://www.w3.org/2000/svg\" height=\"24px\"viewBox=\"0 0 24 24\"\n",
              "     width=\"24px\">\n",
              "    <g>\n",
              "        <path d=\"M19 3H5c-1.1 0-2 .9-2 2v14c0 1.1.9 2 2 2h14c1.1 0 2-.9 2-2V5c0-1.1-.9-2-2-2zM9 17H7v-7h2v7zm4 0h-2V7h2v10zm4 0h-2v-4h2v4z\"/>\n",
              "    </g>\n",
              "</svg>\n",
              "      </button>\n",
              "    </div>\n",
              "\n",
              "<style>\n",
              "  .colab-df-quickchart {\n",
              "    background-color: #E8F0FE;\n",
              "    border: none;\n",
              "    border-radius: 50%;\n",
              "    cursor: pointer;\n",
              "    display: none;\n",
              "    fill: #1967D2;\n",
              "    height: 32px;\n",
              "    padding: 0 0 0 0;\n",
              "    width: 32px;\n",
              "  }\n",
              "\n",
              "  .colab-df-quickchart:hover {\n",
              "    background-color: #E2EBFA;\n",
              "    box-shadow: 0px 1px 2px rgba(60, 64, 67, 0.3), 0px 1px 3px 1px rgba(60, 64, 67, 0.15);\n",
              "    fill: #174EA6;\n",
              "  }\n",
              "\n",
              "  [theme=dark] .colab-df-quickchart {\n",
              "    background-color: #3B4455;\n",
              "    fill: #D2E3FC;\n",
              "  }\n",
              "\n",
              "  [theme=dark] .colab-df-quickchart:hover {\n",
              "    background-color: #434B5C;\n",
              "    box-shadow: 0px 1px 3px 1px rgba(0, 0, 0, 0.15);\n",
              "    filter: drop-shadow(0px 1px 2px rgba(0, 0, 0, 0.3));\n",
              "    fill: #FFFFFF;\n",
              "  }\n",
              "</style>\n",
              "\n",
              "    <script>\n",
              "      async function quickchart(key) {\n",
              "        const containerElement = document.querySelector('#' + key);\n",
              "        const charts = await google.colab.kernel.invokeFunction(\n",
              "            'suggestCharts', [key], {});\n",
              "      }\n",
              "    </script>\n",
              "\n",
              "      <script>\n",
              "\n",
              "function displayQuickchartButton(domScope) {\n",
              "  let quickchartButtonEl =\n",
              "    domScope.querySelector('#df-03e0157e-5e36-4162-a46f-2720f1b9ca8d button.colab-df-quickchart');\n",
              "  quickchartButtonEl.style.display =\n",
              "    google.colab.kernel.accessAllowed ? 'block' : 'none';\n",
              "}\n",
              "\n",
              "        displayQuickchartButton(document);\n",
              "      </script>\n",
              "      <style>\n",
              "    .colab-df-container {\n",
              "      display:flex;\n",
              "      flex-wrap:wrap;\n",
              "      gap: 12px;\n",
              "    }\n",
              "\n",
              "    .colab-df-convert {\n",
              "      background-color: #E8F0FE;\n",
              "      border: none;\n",
              "      border-radius: 50%;\n",
              "      cursor: pointer;\n",
              "      display: none;\n",
              "      fill: #1967D2;\n",
              "      height: 32px;\n",
              "      padding: 0 0 0 0;\n",
              "      width: 32px;\n",
              "    }\n",
              "\n",
              "    .colab-df-convert:hover {\n",
              "      background-color: #E2EBFA;\n",
              "      box-shadow: 0px 1px 2px rgba(60, 64, 67, 0.3), 0px 1px 3px 1px rgba(60, 64, 67, 0.15);\n",
              "      fill: #174EA6;\n",
              "    }\n",
              "\n",
              "    [theme=dark] .colab-df-convert {\n",
              "      background-color: #3B4455;\n",
              "      fill: #D2E3FC;\n",
              "    }\n",
              "\n",
              "    [theme=dark] .colab-df-convert:hover {\n",
              "      background-color: #434B5C;\n",
              "      box-shadow: 0px 1px 3px 1px rgba(0, 0, 0, 0.15);\n",
              "      filter: drop-shadow(0px 1px 2px rgba(0, 0, 0, 0.3));\n",
              "      fill: #FFFFFF;\n",
              "    }\n",
              "  </style>\n",
              "\n",
              "      <script>\n",
              "        const buttonEl =\n",
              "          document.querySelector('#df-78f8229f-eb6d-492b-92a0-13a7d1f2df9f button.colab-df-convert');\n",
              "        buttonEl.style.display =\n",
              "          google.colab.kernel.accessAllowed ? 'block' : 'none';\n",
              "\n",
              "        async function convertToInteractive(key) {\n",
              "          const element = document.querySelector('#df-78f8229f-eb6d-492b-92a0-13a7d1f2df9f');\n",
              "          const dataTable =\n",
              "            await google.colab.kernel.invokeFunction('convertToInteractive',\n",
              "                                                     [key], {});\n",
              "          if (!dataTable) return;\n",
              "\n",
              "          const docLinkHtml = 'Like what you see? Visit the ' +\n",
              "            '<a target=\"_blank\" href=https://colab.research.google.com/notebooks/data_table.ipynb>data table notebook</a>'\n",
              "            + ' to learn more about interactive tables.';\n",
              "          element.innerHTML = '';\n",
              "          dataTable['output_type'] = 'display_data';\n",
              "          await google.colab.output.renderOutput(dataTable, element);\n",
              "          const docLink = document.createElement('div');\n",
              "          docLink.innerHTML = docLinkHtml;\n",
              "          element.appendChild(docLink);\n",
              "        }\n",
              "      </script>\n",
              "    </div>\n",
              "  </div>\n"
            ]
          },
          "metadata": {}
        }
      ],
      "source": [
        "display(df)"
      ]
    },
    {
      "cell_type": "code",
      "source": [
        "df.to_csv('output.csv', index=False)"
      ],
      "metadata": {
        "id": "cHkRUoYbFQyv"
      },
      "execution_count": null,
      "outputs": []
    },
    {
      "cell_type": "code",
      "execution_count": null,
      "metadata": {
        "id": "kXGupoav_MV6"
      },
      "outputs": [],
      "source": [
        "from langchain.agents import create_pandas_dataframe_agent\n",
        "from langchain.chat_models import ChatOpenAI\n",
        "from langchain.agents.agent_types import AgentType\n",
        "agent = create_pandas_dataframe_agent(llm, df, verbose=True)"
      ]
    },
    {
      "cell_type": "code",
      "execution_count": null,
      "metadata": {
        "id": "klLzld15_eFp"
      },
      "outputs": [],
      "source": [
        "with get_openai_callback() as cb:\n",
        "    agent.run(\"Identify 2 candidates with B.E. degree. Give their path also.\")\n",
        "    print(cb)"
      ]
    },
    {
      "cell_type": "code",
      "execution_count": null,
      "metadata": {
        "id": "4HBbzOjp_ezZ"
      },
      "outputs": [],
      "source": [
        "with get_openai_callback() as cb:\n",
        "    agent.run(\"Identify 2 candidates with Python Skill. Give their path also.\")\n",
        "    print(cb)"
      ]
    }
  ],
  "metadata": {
    "colab": {
      "provenance": []
    },
    "kernelspec": {
      "display_name": "Python 3",
      "name": "python3"
    },
    "language_info": {
      "name": "python"
    }
  },
  "nbformat": 4,
  "nbformat_minor": 0
}